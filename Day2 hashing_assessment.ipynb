{
 "cells": [
  {
   "cell_type": "markdown",
   "metadata": {},
   "source": [
    "#### Question 1: \n",
    "Two Sum\n",
    "Given an array of integers nums and an integer target, return indices of the two numbers such that they\n",
    "add up to target.\n",
    "You may assume that each input would have exactly one solution, and you may not use the same\n",
    "element twice.\n",
    "You can return the answer in any order."
   ]
  },
  {
   "cell_type": "markdown",
   "metadata": {},
   "source": [
    "Brute Force"
   ]
  },
  {
   "cell_type": "code",
   "execution_count": 2,
   "metadata": {},
   "outputs": [],
   "source": [
    "nums = list(map(int,input().split()))\n",
    "target = int(input())\n",
    "\n",
    "def two_sum(nums,target):\n",
    "    n = len(nums)\n",
    "\n",
    "    for i in range(n):\n",
    "        for j in range(i+1,n):\n",
    "            if nums[i]+nums[j] == target:\n",
    "                return [i,j]"
   ]
  },
  {
   "cell_type": "markdown",
   "metadata": {},
   "source": [
    "Dynamic Approach"
   ]
  },
  {
   "cell_type": "code",
   "execution_count": 3,
   "metadata": {},
   "outputs": [],
   "source": [
    "def two_Sums(nums,target):\n",
    "    n = len(nums)\n",
    "    num_dict = {}\n",
    "\n",
    "    for ind,num in enumerate(nums):\n",
    "        num_dict[num] = ind\n",
    "    \n",
    "    for i in range(n):\n",
    "        remain = target - nums[i]\n",
    "        if remain in num_dict and num_dict[remain] != i:\n",
    "            return [i,num_dict[remain]]"
   ]
  },
  {
   "cell_type": "markdown",
   "metadata": {},
   "source": [
    "#### Question 2: \n",
    "Group Anagrams\n",
    "Given an array of strings strs, group the anagrams together. You can return the answer in any order.\n",
    "An Anagram is a word or phrase formed by rearranging the letters of a different word or phrase,\n",
    "typically using all the original letters exactly once."
   ]
  },
  {
   "cell_type": "code",
   "execution_count": 6,
   "metadata": {},
   "outputs": [],
   "source": [
    "def group_anagrams(strs):\n",
    "    anagram_dict = {}\n",
    "    ans = []\n",
    "\n",
    "    for s in strs:\n",
    "        sorted_str = tuple(sorted(s))\n",
    "        if sorted_str not in anagram_dict:\n",
    "            anagram_dict[sorted_str] = [s]\n",
    "        else:\n",
    "            anagram_dict[sorted_str].append(s)\n",
    "    \n",
    "    for values in anagram_dict.values():\n",
    "        ans.append(values)\n",
    "    \n",
    "    return ans"
   ]
  },
  {
   "cell_type": "code",
   "execution_count": 7,
   "metadata": {},
   "outputs": [
    {
     "name": "stdout",
     "output_type": "stream",
     "text": [
      "[['eat', 'tea', 'ate'], ['tan', 'nat'], ['bat']]\n"
     ]
    }
   ],
   "source": [
    "print(group_anagrams([\"eat\",\"tea\",\"tan\",\"ate\",\"nat\",\"bat\"]))"
   ]
  },
  {
   "cell_type": "markdown",
   "metadata": {},
   "source": [
    "#### Question 3: \n",
    "Longest Substring Without Repeating Characters\n",
    "Given a string s, find the length of the longest substring without repeating characters."
   ]
  },
  {
   "cell_type": "code",
   "execution_count": 32,
   "metadata": {},
   "outputs": [],
   "source": [
    "def long_sub(s):\n",
    "    if len(s) == 1:\n",
    "        return 1\n",
    "    n = len(s)\n",
    "    longest = 0\n",
    "    for i in range(n):\n",
    "        for j in range(i+1,n+1):\n",
    "            sub_str = s[i:j]\n",
    "            if len(sub_str) == len(set(sub_str)):\n",
    "                if len(sub_str) > longest:\n",
    "                    longest = len(sub_str)\n",
    "    return longest"
   ]
  },
  {
   "cell_type": "code",
   "execution_count": 33,
   "metadata": {},
   "outputs": [
    {
     "name": "stdout",
     "output_type": "stream",
     "text": [
      "1\n"
     ]
    }
   ],
   "source": [
    "print(long_sub('     '))"
   ]
  },
  {
   "cell_type": "markdown",
   "metadata": {},
   "source": [
    "#### Question 4: \n",
    "Top K Frequent Elements\n",
    "Given an integer array nums and an integer k, return the k most frequent elements. You may return the\n",
    "answer in any order."
   ]
  },
  {
   "cell_type": "code",
   "execution_count": 67,
   "metadata": {},
   "outputs": [],
   "source": [
    "def topk(nums,k):\n",
    "    def second(a):\n",
    "         return a[1]\n",
    "    \n",
    "    if len(nums) == 1 and k == 1:\n",
    "            return [nums[0]]\n",
    "    nums_dict = {}\n",
    "    \n",
    "    for num in nums:\n",
    "        if num in nums_dict:\n",
    "            nums_dict[num] += 1\n",
    "        else:\n",
    "            nums_dict[num] = 1\n",
    "    \n",
    "    sorted_item = sorted(nums_dict.items(), key = second, reverse = True)\n",
    "\n",
    "    return [val[0] for val in sorted_item[:k]]"
   ]
  },
  {
   "cell_type": "code",
   "execution_count": 68,
   "metadata": {},
   "outputs": [
    {
     "name": "stdout",
     "output_type": "stream",
     "text": [
      "[1, 2]\n"
     ]
    }
   ],
   "source": [
    "print(topk([1,1,1,2,2,3], k = 2))"
   ]
  },
  {
   "cell_type": "markdown",
   "metadata": {},
   "source": [
    "#### Question 5: \n",
    "Valid Anagram\n",
    "Given two strings s and t, return true if t is an anagram of s, and false otherwise."
   ]
  },
  {
   "cell_type": "markdown",
   "metadata": {},
   "source": [
    "Brute Force"
   ]
  },
  {
   "cell_type": "code",
   "execution_count": 70,
   "metadata": {},
   "outputs": [],
   "source": [
    "def valid_anagram(s,t):\n",
    "    if sorted(s) == sorted(t):\n",
    "        return 'true'\n",
    "    else:\n",
    "        return 'false'"
   ]
  },
  {
   "cell_type": "code",
   "execution_count": 71,
   "metadata": {},
   "outputs": [
    {
     "name": "stdout",
     "output_type": "stream",
     "text": [
      "true\n"
     ]
    }
   ],
   "source": [
    "print(valid_anagram('nagaram','anagram'))"
   ]
  },
  {
   "cell_type": "markdown",
   "metadata": {},
   "source": [
    "Dynamic"
   ]
  },
  {
   "cell_type": "code",
   "execution_count": 73,
   "metadata": {},
   "outputs": [],
   "source": [
    "def valid_Anagram(s,t):\n",
    "    anag_dict = {}\n",
    "\n",
    "    for char in s:\n",
    "        if char in anag_dict:\n",
    "            anag_dict[char] += 1\n",
    "        else:\n",
    "            anag_dict[char] = 1\n",
    "\n",
    "    for char in t:\n",
    "        if char in anag_dict:\n",
    "            anag_dict[char] -= 1\n",
    "        else:\n",
    "            anag_dict[char] = -1\n",
    "\n",
    "    for val in anag_dict.values():\n",
    "        if val != 0:\n",
    "            return 'false'\n",
    "\n",
    "    return 'true'"
   ]
  },
  {
   "cell_type": "code",
   "execution_count": 74,
   "metadata": {},
   "outputs": [
    {
     "name": "stdout",
     "output_type": "stream",
     "text": [
      "true\n"
     ]
    }
   ],
   "source": [
    "print(valid_Anagram('anagram','nagaram'))"
   ]
  },
  {
   "cell_type": "code",
   "execution_count": null,
   "metadata": {},
   "outputs": [],
   "source": []
  }
 ],
 "metadata": {
  "kernelspec": {
   "display_name": "Python 3",
   "language": "python",
   "name": "python3"
  },
  "language_info": {
   "codemirror_mode": {
    "name": "ipython",
    "version": 3
   },
   "file_extension": ".py",
   "mimetype": "text/x-python",
   "name": "python",
   "nbconvert_exporter": "python",
   "pygments_lexer": "ipython3",
   "version": "3.12.0"
  }
 },
 "nbformat": 4,
 "nbformat_minor": 2
}
