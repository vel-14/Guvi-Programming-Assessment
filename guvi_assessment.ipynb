{
 "cells": [
  {
   "cell_type": "markdown",
   "metadata": {},
   "source": [
    "### Question 1\n",
    "\n",
    "Problem Description:\n",
    "You are given an integer array coins representing coins of different denominations and an integer\n",
    "amount representing a total amount of money.\n",
    "\n",
    "Return the fewest number of coins that you need to make up that amount. If that amount of money\n",
    "cannot be made up by any combination of the coins, return -1."
   ]
  },
  {
   "cell_type": "code",
   "execution_count": 17,
   "metadata": {},
   "outputs": [
    {
     "name": "stdout",
     "output_type": "stream",
     "text": [
      "3\n"
     ]
    }
   ],
   "source": [
    "coins = list(map(int,input().split()))\n",
    "amount = int(input())\n",
    "\n",
    "coins = sorted(coins,reverse=True)\n",
    "count = 0\n",
    "\n",
    "if amount > 0:\n",
    "    for coin in coins:\n",
    "        while True:\n",
    "            amount -= coin\n",
    "            count += 1\n",
    "            if amount < 0:\n",
    "                amount += coin\n",
    "                count -= 1\n",
    "                break\n",
    "        if amount == 0:\n",
    "            break\n",
    "if amount == 0:\n",
    "    print(count)\n",
    "else:\n",
    "    print(-1)\n",
    "    "
   ]
  },
  {
   "cell_type": "markdown",
   "metadata": {},
   "source": [
    "### Question 2\n",
    "\n",
    "Problem Description:\n",
    "Given a string `s`, return the longest palindromic substring in `s`."
   ]
  },
  {
   "cell_type": "code",
   "execution_count": 14,
   "metadata": {},
   "outputs": [
    {
     "name": "stdout",
     "output_type": "stream",
     "text": [
      "bb\n"
     ]
    }
   ],
   "source": [
    "s = list(input())\n",
    "n = len(s)\n",
    "longest = []\n",
    "\n",
    "for i in range(n):\n",
    "    for j in range(i,n):\n",
    "        sub_s = s[i:j+1]\n",
    "        if sub_s == sub_s[::-1]:\n",
    "            if len(sub_s) > len(longest):\n",
    "                longest = sub_s\n",
    "if longest:\n",
    "    print(''.join(longest))"
   ]
  },
  {
   "cell_type": "markdown",
   "metadata": {},
   "source": [
    "### Question 3\n",
    "\n",
    "Problem Description:\n",
    "For a string sequence, a string word is k-repeating if word concatenated k times is a substring of\n",
    "sequence. The word's maximum k-repeating value is the highest value k where word is k-repeating\n",
    "in sequence. If word is not a substring of sequence, word's maximum k-repeating value is 0.\n",
    "\n",
    "Given strings sequence and word, return the maximum k-repeating value of word in sequence."
   ]
  },
  {
   "cell_type": "code",
   "execution_count": 31,
   "metadata": {},
   "outputs": [
    {
     "name": "stdout",
     "output_type": "stream",
     "text": [
      "1\n"
     ]
    }
   ],
   "source": [
    "sequence = input()\n",
    "word = input()\n",
    "output = 0\n",
    "len_word = len(word)\n",
    "\n",
    "for i in range(len(sequence)):\n",
    "    for j in range(i,len(sequence)):\n",
    "        sub_seq = sequence[i:j+1]\n",
    "        len_sub = len(sub_seq)\n",
    "        if (len_sub%len_word == 0) and  (word * (len_sub//len_word) == sub_seq):\n",
    "            if len_sub//len_word > output:\n",
    "                output = len_sub//len_word\n",
    "\n",
    "print(output)"
   ]
  },
  {
   "cell_type": "markdown",
   "metadata": {},
   "source": [
    "### Question 4\n",
    "\n",
    "Problem Description:\n",
    "Given an integer array `nums`, find the subarray with the largest sum, and return its sum."
   ]
  },
  {
   "cell_type": "code",
   "execution_count": 38,
   "metadata": {},
   "outputs": [
    {
     "name": "stdout",
     "output_type": "stream",
     "text": [
      "23\n"
     ]
    }
   ],
   "source": [
    "arr = list(map(int,input().split()))\n",
    "max_sum = -10**5\n",
    "\n",
    "n = len(arr)\n",
    "\n",
    "for i in range(n):\n",
    "    for j in range(i,n):\n",
    "        sub_arr = arr[i:j+1]\n",
    "        summ = sum(sub_arr)\n",
    "        if summ > max_sum:\n",
    "            max_sum = summ\n",
    "print(max_sum)"
   ]
  },
  {
   "cell_type": "markdown",
   "metadata": {},
   "source": [
    "Dynamic approach"
   ]
  },
  {
   "cell_type": "code",
   "execution_count": 9,
   "metadata": {},
   "outputs": [
    {
     "name": "stdout",
     "output_type": "stream",
     "text": [
      "23\n"
     ]
    }
   ],
   "source": [
    "arr = list(map(int, input().split()))\n",
    "\n",
    "n = len(arr)\n",
    "max_sum = -10**5\n",
    "\n",
    "dp = [0] * n\n",
    "dp[0] = arr[0]\n",
    "\n",
    "for i in range(1, n):\n",
    "    dp[i] = max(dp[i-1] + arr[i], arr[i])\n",
    "\n",
    "max_sum = max(dp)\n",
    "\n",
    "print(max_sum)\n"
   ]
  },
  {
   "cell_type": "markdown",
   "metadata": {},
   "source": [
    "### Question 5\n",
    "\n",
    "Problem Description:\n",
    "You are climbing a staircase. It takes `n` steps to reach the top.\n",
    "\n",
    "Each time you can either climb 1 or 2 steps. In how many distinct ways can you climb to the top?"
   ]
  },
  {
   "cell_type": "code",
   "execution_count": 16,
   "metadata": {},
   "outputs": [
    {
     "name": "stdout",
     "output_type": "stream",
     "text": [
      "5\n"
     ]
    }
   ],
   "source": [
    "n = int(input())\n",
    "output = float('inf')\n",
    "\n",
    "if n == 0:\n",
    "    output = 0\n",
    "elif n == 1:\n",
    "    output = 1\n",
    "else:\n",
    "    dp = [0] * (n + 1)\n",
    "    dp[0] = 1\n",
    "    dp[1] = 1\n",
    "\n",
    "    for i in range(2, n + 1):\n",
    "        dp[i] = dp[i - 1] + dp[i - 2]\n",
    "\n",
    "    output = dp[n]\n",
    "\n",
    "print(output)"
   ]
  }
 ],
 "metadata": {
  "kernelspec": {
   "display_name": "Python 3",
   "language": "python",
   "name": "python3"
  },
  "language_info": {
   "codemirror_mode": {
    "name": "ipython",
    "version": 3
   },
   "file_extension": ".py",
   "mimetype": "text/x-python",
   "name": "python",
   "nbconvert_exporter": "python",
   "pygments_lexer": "ipython3",
   "version": "3.12.0"
  }
 },
 "nbformat": 4,
 "nbformat_minor": 2
}
